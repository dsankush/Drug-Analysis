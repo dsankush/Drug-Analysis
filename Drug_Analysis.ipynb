{
  "nbformat": 4,
  "nbformat_minor": 0,
  "metadata": {
    "colab": {
      "provenance": [],
      "authorship_tag": "ABX9TyM5zmqEshtTgqsLcj5IdYh3",
      "include_colab_link": true
    },
    "kernelspec": {
      "name": "python3",
      "display_name": "Python 3"
    },
    "language_info": {
      "name": "python"
    }
  },
  "cells": [
    {
      "cell_type": "markdown",
      "metadata": {
        "id": "view-in-github",
        "colab_type": "text"
      },
      "source": [
        "<a href=\"https://colab.research.google.com/github/dsankush/Drug-Analysis/blob/main/Drug_Analysis.ipynb\" target=\"_parent\"><img src=\"https://colab.research.google.com/assets/colab-badge.svg\" alt=\"Open In Colab\"/></a>"
      ]
    },
    {
      "cell_type": "markdown",
      "metadata": {
        "id": "0ee69a91"
      },
      "source": [
        "# Importing Required Libraries"
      ]
    },
    {
      "cell_type": "code",
      "execution_count": null,
      "metadata": {
        "id": "01068bcb"
      },
      "outputs": [],
      "source": [
        "# To load data from file\n",
        "import pandas as pd \n",
        "\n",
        "# To perform mathemetiacal operations\n",
        "import numpy as np\n",
        "\n",
        "from scipy import stats as st\n",
        "\n",
        "# To visualize data and get insight from the data\n",
        "import matplotlib.pyplot as plt\n",
        "import seaborn as sns\n",
        "\n",
        "# To avoid the warning that aren't necessarily exceptions\n",
        "import warnings\n",
        "warnings.filterwarnings('ignore')\n",
        "\n",
        "# Sets the backend of seaborn to the 'inline' backend\n",
        "sns.set()\n",
        "# Sets the backend of matplotlib to the 'inline' backend\n",
        "%matplotlib inline\n",
        "\n",
        "# Pre-defining the font type and size to provide same throughout the code\n",
        "font = {'family' : 'normal',\n",
        "        'size'   : 16}\n",
        "plt.rc('font', **font)\n",
        "\n",
        "# Pre-defining the color schema\n",
        "# Pre-defining the color schema\n",
        "sns.set_palette('gist_ncar')"
      ]
    },
    {
      "cell_type": "markdown",
      "metadata": {
        "id": "18813f91"
      },
      "source": [
        "### Loading Dataset from csv file"
      ]
    },
    {
      "cell_type": "code",
      "source": [
        "# Mounting drive and read the csv file\n",
        "from google.colab import drive\n",
        "drive.mount('/content/drive')"
      ],
      "metadata": {
        "colab": {
          "base_uri": "https://localhost:8080/"
        },
        "id": "Rt5jOHMYuuZc",
        "outputId": "5e71747b-40d9-4792-bc5f-87c6b6632bc2"
      },
      "execution_count": null,
      "outputs": [
        {
          "output_type": "stream",
          "name": "stdout",
          "text": [
            "Mounted at /content/drive\n"
          ]
        }
      ]
    },
    {
      "cell_type": "code",
      "execution_count": null,
      "metadata": {
        "id": "f8693c42"
      },
      "outputs": [],
      "source": [
        "# Using pandas read_csv method to load the data\n",
        "path = '/content/drive/MyDrive/Drug Analysis/drug200 (1).csv'\n",
        "data = pd.read_csv(path)"
      ]
    },
    {
      "cell_type": "markdown",
      "metadata": {
        "id": "0c1477b2"
      },
      "source": [
        "### Getting the first 5 rows of the data."
      ]
    },
    {
      "cell_type": "code",
      "execution_count": null,
      "metadata": {
        "id": "7a40e967",
        "outputId": "d48d3e97-918c-4929-9d93-5cb54cc11e40"
      },
      "outputs": [
        {
          "data": {
            "text/html": [
              "<div>\n",
              "<style scoped>\n",
              "    .dataframe tbody tr th:only-of-type {\n",
              "        vertical-align: middle;\n",
              "    }\n",
              "\n",
              "    .dataframe tbody tr th {\n",
              "        vertical-align: top;\n",
              "    }\n",
              "\n",
              "    .dataframe thead th {\n",
              "        text-align: right;\n",
              "    }\n",
              "</style>\n",
              "<table border=\"1\" class=\"dataframe\">\n",
              "  <thead>\n",
              "    <tr style=\"text-align: right;\">\n",
              "      <th></th>\n",
              "      <th>Age</th>\n",
              "      <th>Sex</th>\n",
              "      <th>BP</th>\n",
              "      <th>Cholesterol</th>\n",
              "      <th>Na_to_K</th>\n",
              "      <th>Drug</th>\n",
              "    </tr>\n",
              "  </thead>\n",
              "  <tbody>\n",
              "    <tr>\n",
              "      <th>0</th>\n",
              "      <td>23</td>\n",
              "      <td>F</td>\n",
              "      <td>HIGH</td>\n",
              "      <td>HIGH</td>\n",
              "      <td>25.355</td>\n",
              "      <td>DrugY</td>\n",
              "    </tr>\n",
              "    <tr>\n",
              "      <th>1</th>\n",
              "      <td>47</td>\n",
              "      <td>M</td>\n",
              "      <td>LOW</td>\n",
              "      <td>HIGH</td>\n",
              "      <td>13.093</td>\n",
              "      <td>drugC</td>\n",
              "    </tr>\n",
              "    <tr>\n",
              "      <th>2</th>\n",
              "      <td>47</td>\n",
              "      <td>M</td>\n",
              "      <td>LOW</td>\n",
              "      <td>HIGH</td>\n",
              "      <td>10.114</td>\n",
              "      <td>drugC</td>\n",
              "    </tr>\n",
              "    <tr>\n",
              "      <th>3</th>\n",
              "      <td>28</td>\n",
              "      <td>F</td>\n",
              "      <td>NORMAL</td>\n",
              "      <td>HIGH</td>\n",
              "      <td>7.798</td>\n",
              "      <td>drugX</td>\n",
              "    </tr>\n",
              "    <tr>\n",
              "      <th>4</th>\n",
              "      <td>61</td>\n",
              "      <td>F</td>\n",
              "      <td>LOW</td>\n",
              "      <td>HIGH</td>\n",
              "      <td>18.043</td>\n",
              "      <td>DrugY</td>\n",
              "    </tr>\n",
              "  </tbody>\n",
              "</table>\n",
              "</div>"
            ],
            "text/plain": [
              "   Age Sex      BP Cholesterol  Na_to_K   Drug\n",
              "0   23   F    HIGH        HIGH   25.355  DrugY\n",
              "1   47   M     LOW        HIGH   13.093  drugC\n",
              "2   47   M     LOW        HIGH   10.114  drugC\n",
              "3   28   F  NORMAL        HIGH    7.798  drugX\n",
              "4   61   F     LOW        HIGH   18.043  DrugY"
            ]
          },
          "execution_count": 286,
          "metadata": {},
          "output_type": "execute_result"
        }
      ],
      "source": [
        "# using pandas head function.\n",
        "\n",
        "data.head()"
      ]
    },
    {
      "cell_type": "markdown",
      "metadata": {
        "id": "fa8f13cf"
      },
      "source": [
        "### Getting the last 5 rows of the data."
      ]
    },
    {
      "cell_type": "code",
      "execution_count": null,
      "metadata": {
        "id": "5422da5a",
        "outputId": "16ca2915-d3b5-46d6-b1ec-a81623244ee7"
      },
      "outputs": [
        {
          "data": {
            "text/html": [
              "<div>\n",
              "<style scoped>\n",
              "    .dataframe tbody tr th:only-of-type {\n",
              "        vertical-align: middle;\n",
              "    }\n",
              "\n",
              "    .dataframe tbody tr th {\n",
              "        vertical-align: top;\n",
              "    }\n",
              "\n",
              "    .dataframe thead th {\n",
              "        text-align: right;\n",
              "    }\n",
              "</style>\n",
              "<table border=\"1\" class=\"dataframe\">\n",
              "  <thead>\n",
              "    <tr style=\"text-align: right;\">\n",
              "      <th></th>\n",
              "      <th>Age</th>\n",
              "      <th>Sex</th>\n",
              "      <th>BP</th>\n",
              "      <th>Cholesterol</th>\n",
              "      <th>Na_to_K</th>\n",
              "      <th>Drug</th>\n",
              "    </tr>\n",
              "  </thead>\n",
              "  <tbody>\n",
              "    <tr>\n",
              "      <th>195</th>\n",
              "      <td>56</td>\n",
              "      <td>F</td>\n",
              "      <td>LOW</td>\n",
              "      <td>HIGH</td>\n",
              "      <td>11.567</td>\n",
              "      <td>drugC</td>\n",
              "    </tr>\n",
              "    <tr>\n",
              "      <th>196</th>\n",
              "      <td>16</td>\n",
              "      <td>M</td>\n",
              "      <td>LOW</td>\n",
              "      <td>HIGH</td>\n",
              "      <td>12.006</td>\n",
              "      <td>drugC</td>\n",
              "    </tr>\n",
              "    <tr>\n",
              "      <th>197</th>\n",
              "      <td>52</td>\n",
              "      <td>M</td>\n",
              "      <td>NORMAL</td>\n",
              "      <td>HIGH</td>\n",
              "      <td>9.894</td>\n",
              "      <td>drugX</td>\n",
              "    </tr>\n",
              "    <tr>\n",
              "      <th>198</th>\n",
              "      <td>23</td>\n",
              "      <td>M</td>\n",
              "      <td>NORMAL</td>\n",
              "      <td>NORMAL</td>\n",
              "      <td>14.020</td>\n",
              "      <td>drugX</td>\n",
              "    </tr>\n",
              "    <tr>\n",
              "      <th>199</th>\n",
              "      <td>40</td>\n",
              "      <td>F</td>\n",
              "      <td>LOW</td>\n",
              "      <td>NORMAL</td>\n",
              "      <td>11.349</td>\n",
              "      <td>drugX</td>\n",
              "    </tr>\n",
              "  </tbody>\n",
              "</table>\n",
              "</div>"
            ],
            "text/plain": [
              "     Age Sex      BP Cholesterol  Na_to_K   Drug\n",
              "195   56   F     LOW        HIGH   11.567  drugC\n",
              "196   16   M     LOW        HIGH   12.006  drugC\n",
              "197   52   M  NORMAL        HIGH    9.894  drugX\n",
              "198   23   M  NORMAL      NORMAL   14.020  drugX\n",
              "199   40   F     LOW      NORMAL   11.349  drugX"
            ]
          },
          "execution_count": 287,
          "metadata": {},
          "output_type": "execute_result"
        }
      ],
      "source": [
        "# using pandas tail function.\n",
        "\n",
        "data.tail()"
      ]
    },
    {
      "cell_type": "markdown",
      "metadata": {
        "id": "9a190b17"
      },
      "source": [
        "### Getting the columns present in our data."
      ]
    },
    {
      "cell_type": "code",
      "execution_count": null,
      "metadata": {
        "id": "4f6088bd",
        "outputId": "5a339d0d-a600-4c92-9e8b-ed14c2ff8b56"
      },
      "outputs": [
        {
          "name": "stdout",
          "output_type": "stream",
          "text": [
            "Columns in our data:\n"
          ]
        },
        {
          "data": {
            "text/plain": [
              "['Age', 'Sex', 'BP', 'Cholesterol', 'Na_to_K', 'Drug']"
            ]
          },
          "execution_count": 288,
          "metadata": {},
          "output_type": "execute_result"
        }
      ],
      "source": [
        "# using pandas columns method\n",
        "\n",
        "print('Columns in our data:')\n",
        "\n",
        "data.columns.tolist()"
      ]
    },
    {
      "cell_type": "markdown",
      "metadata": {
        "id": "b3753996"
      },
      "source": [
        "### Getting the shape of the data."
      ]
    },
    {
      "cell_type": "code",
      "execution_count": null,
      "metadata": {
        "id": "128318cf",
        "outputId": "3ebe25d5-b100-4761-ddd0-537c86b6257d"
      },
      "outputs": [
        {
          "name": "stdout",
          "output_type": "stream",
          "text": [
            "Shape of our dataset : \n"
          ]
        },
        {
          "data": {
            "text/plain": [
              "(200, 6)"
            ]
          },
          "execution_count": 289,
          "metadata": {},
          "output_type": "execute_result"
        }
      ],
      "source": [
        "# using pandas shape method to get the shape of our dataset\n",
        "\n",
        "print('Shape of our dataset : ')\n",
        "data.shape"
      ]
    },
    {
      "cell_type": "code",
      "execution_count": null,
      "metadata": {
        "id": "293e59be",
        "outputId": "7f830c82-2f34-464f-be8d-2979c38da315"
      },
      "outputs": [
        {
          "name": "stdout",
          "output_type": "stream",
          "text": [
            "Number of columns :  6 \n",
            "\n",
            "number of rows :  200\n"
          ]
        }
      ],
      "source": [
        "print('Number of columns : ',data.shape[1],'\\n')\n",
        "\n",
        "print('number of rows : ',data.shape[0])"
      ]
    },
    {
      "cell_type": "markdown",
      "metadata": {
        "id": "796c0d90"
      },
      "source": [
        "* <b>Checking the data types of each column</b>"
      ]
    },
    {
      "cell_type": "code",
      "execution_count": null,
      "metadata": {
        "id": "5e2cacc5",
        "outputId": "318e9afb-3d98-4181-d86b-e972f46d915b"
      },
      "outputs": [
        {
          "data": {
            "text/plain": [
              "Age              int64\n",
              "Sex             object\n",
              "BP              object\n",
              "Cholesterol     object\n",
              "Na_to_K        float64\n",
              "Drug            object\n",
              "dtype: object"
            ]
          },
          "execution_count": 291,
          "metadata": {},
          "output_type": "execute_result"
        }
      ],
      "source": [
        "data.dtypes"
      ]
    },
    {
      "cell_type": "markdown",
      "metadata": {
        "id": "ebb50871"
      },
      "source": [
        "### Getting the type of data present in columns."
      ]
    },
    {
      "cell_type": "code",
      "execution_count": null,
      "metadata": {
        "id": "8afb1e2c",
        "outputId": "a453abed-dfc9-4c69-a13c-a4bcb626a227"
      },
      "outputs": [
        {
          "name": "stdout",
          "output_type": "stream",
          "text": [
            "The number of Numerical columns are: 2\n",
            "\n",
            "The number of Categorical columns are: 4\n"
          ]
        }
      ],
      "source": [
        "# printing the number of numerical features and number of categorical features \n",
        "\n",
        "num_col = data.select_dtypes(include = 'number')\n",
        "print(\"The number of Numerical columns are:\",len(num_col.columns))\n",
        "\n",
        "cat_col = data.select_dtypes(include = 'object')\n",
        "print(\"\\nThe number of Categorical columns are:\",len(cat_col.columns))"
      ]
    },
    {
      "cell_type": "code",
      "execution_count": null,
      "metadata": {
        "id": "b535ff5d",
        "outputId": "4cefab16-c556-466b-bdad-07b732518621"
      },
      "outputs": [
        {
          "name": "stdout",
          "output_type": "stream",
          "text": [
            "<class 'pandas.core.frame.DataFrame'>\n",
            "RangeIndex: 200 entries, 0 to 199\n",
            "Data columns (total 6 columns):\n",
            " #   Column       Non-Null Count  Dtype  \n",
            "---  ------       --------------  -----  \n",
            " 0   Age          200 non-null    int64  \n",
            " 1   Sex          200 non-null    object \n",
            " 2   BP           200 non-null    object \n",
            " 3   Cholesterol  200 non-null    object \n",
            " 4   Na_to_K      200 non-null    float64\n",
            " 5   Drug         200 non-null    object \n",
            "dtypes: float64(1), int64(1), object(4)\n",
            "memory usage: 9.5+ KB\n"
          ]
        }
      ],
      "source": [
        "data.info()"
      ]
    },
    {
      "cell_type": "markdown",
      "metadata": {
        "id": "b460b6a2"
      },
      "source": [
        "#### Summary Statistic of the numeric columns"
      ]
    },
    {
      "cell_type": "code",
      "execution_count": null,
      "metadata": {
        "id": "9ee7fead",
        "outputId": "6a1cf382-a232-4c23-c8e0-2194cb58121d"
      },
      "outputs": [
        {
          "data": {
            "text/html": [
              "<div>\n",
              "<style scoped>\n",
              "    .dataframe tbody tr th:only-of-type {\n",
              "        vertical-align: middle;\n",
              "    }\n",
              "\n",
              "    .dataframe tbody tr th {\n",
              "        vertical-align: top;\n",
              "    }\n",
              "\n",
              "    .dataframe thead th {\n",
              "        text-align: right;\n",
              "    }\n",
              "</style>\n",
              "<table border=\"1\" class=\"dataframe\">\n",
              "  <thead>\n",
              "    <tr style=\"text-align: right;\">\n",
              "      <th></th>\n",
              "      <th>count</th>\n",
              "      <th>mean</th>\n",
              "      <th>std</th>\n",
              "      <th>min</th>\n",
              "      <th>25%</th>\n",
              "      <th>50%</th>\n",
              "      <th>75%</th>\n",
              "      <th>max</th>\n",
              "    </tr>\n",
              "  </thead>\n",
              "  <tbody>\n",
              "    <tr>\n",
              "      <th>Age</th>\n",
              "      <td>200.0</td>\n",
              "      <td>44.315000</td>\n",
              "      <td>16.544315</td>\n",
              "      <td>15.000</td>\n",
              "      <td>31.0000</td>\n",
              "      <td>45.0000</td>\n",
              "      <td>58.00</td>\n",
              "      <td>74.000</td>\n",
              "    </tr>\n",
              "    <tr>\n",
              "      <th>Na_to_K</th>\n",
              "      <td>200.0</td>\n",
              "      <td>16.084485</td>\n",
              "      <td>7.223956</td>\n",
              "      <td>6.269</td>\n",
              "      <td>10.4455</td>\n",
              "      <td>13.9365</td>\n",
              "      <td>19.38</td>\n",
              "      <td>38.247</td>\n",
              "    </tr>\n",
              "  </tbody>\n",
              "</table>\n",
              "</div>"
            ],
            "text/plain": [
              "         count       mean        std     min      25%      50%    75%     max\n",
              "Age      200.0  44.315000  16.544315  15.000  31.0000  45.0000  58.00  74.000\n",
              "Na_to_K  200.0  16.084485   7.223956   6.269  10.4455  13.9365  19.38  38.247"
            ]
          },
          "execution_count": 294,
          "metadata": {},
          "output_type": "execute_result"
        }
      ],
      "source": [
        "data.describe().T"
      ]
    },
    {
      "cell_type": "markdown",
      "metadata": {
        "id": "55545915"
      },
      "source": [
        "#### Summary Statistic of object form data of columns"
      ]
    },
    {
      "cell_type": "code",
      "execution_count": null,
      "metadata": {
        "id": "dee0e72f",
        "outputId": "0ebcc89b-dec4-4c63-c768-115066d07c3b"
      },
      "outputs": [
        {
          "data": {
            "text/html": [
              "<div>\n",
              "<style scoped>\n",
              "    .dataframe tbody tr th:only-of-type {\n",
              "        vertical-align: middle;\n",
              "    }\n",
              "\n",
              "    .dataframe tbody tr th {\n",
              "        vertical-align: top;\n",
              "    }\n",
              "\n",
              "    .dataframe thead th {\n",
              "        text-align: right;\n",
              "    }\n",
              "</style>\n",
              "<table border=\"1\" class=\"dataframe\">\n",
              "  <thead>\n",
              "    <tr style=\"text-align: right;\">\n",
              "      <th></th>\n",
              "      <th>count</th>\n",
              "      <th>unique</th>\n",
              "      <th>top</th>\n",
              "      <th>freq</th>\n",
              "    </tr>\n",
              "  </thead>\n",
              "  <tbody>\n",
              "    <tr>\n",
              "      <th>Sex</th>\n",
              "      <td>200</td>\n",
              "      <td>2</td>\n",
              "      <td>M</td>\n",
              "      <td>104</td>\n",
              "    </tr>\n",
              "    <tr>\n",
              "      <th>BP</th>\n",
              "      <td>200</td>\n",
              "      <td>3</td>\n",
              "      <td>HIGH</td>\n",
              "      <td>77</td>\n",
              "    </tr>\n",
              "    <tr>\n",
              "      <th>Cholesterol</th>\n",
              "      <td>200</td>\n",
              "      <td>2</td>\n",
              "      <td>HIGH</td>\n",
              "      <td>103</td>\n",
              "    </tr>\n",
              "    <tr>\n",
              "      <th>Drug</th>\n",
              "      <td>200</td>\n",
              "      <td>5</td>\n",
              "      <td>DrugY</td>\n",
              "      <td>91</td>\n",
              "    </tr>\n",
              "  </tbody>\n",
              "</table>\n",
              "</div>"
            ],
            "text/plain": [
              "            count unique    top freq\n",
              "Sex           200      2      M  104\n",
              "BP            200      3   HIGH   77\n",
              "Cholesterol   200      2   HIGH  103\n",
              "Drug          200      5  DrugY   91"
            ]
          },
          "execution_count": 295,
          "metadata": {},
          "output_type": "execute_result"
        }
      ],
      "source": [
        "data.describe(include = 'object').T"
      ]
    },
    {
      "cell_type": "code",
      "execution_count": null,
      "metadata": {
        "id": "7f769ae9"
      },
      "outputs": [],
      "source": [
        "# In our dataset there are lots of unique values in lots of columns \n",
        "# Getting the number of unique values present in these columns\n",
        "\n",
        "# Using Dictionary Comprehension to get the dictionary of the columns containing more than 1 unique value\n",
        "\n",
        "unique_count_dict = {column: len(data[column].unique()) for column in data.columns}"
      ]
    },
    {
      "cell_type": "code",
      "execution_count": null,
      "metadata": {
        "id": "74f261d6"
      },
      "outputs": [],
      "source": [
        "# Creating seperate list of columns and count from the keys and values of the unique_count_dict\n",
        "\n",
        "column_list = list(unique_count_dict.keys())\n",
        "unique_value_count = list(unique_count_dict.values())"
      ]
    },
    {
      "cell_type": "code",
      "execution_count": null,
      "metadata": {
        "id": "194b74bb",
        "outputId": "154f379a-f919-4416-a1fe-2b7ae8d41888"
      },
      "outputs": [
        {
          "data": {
            "text/html": [
              "<div>\n",
              "<style scoped>\n",
              "    .dataframe tbody tr th:only-of-type {\n",
              "        vertical-align: middle;\n",
              "    }\n",
              "\n",
              "    .dataframe tbody tr th {\n",
              "        vertical-align: top;\n",
              "    }\n",
              "\n",
              "    .dataframe thead th {\n",
              "        text-align: right;\n",
              "    }\n",
              "</style>\n",
              "<table border=\"1\" class=\"dataframe\">\n",
              "  <thead>\n",
              "    <tr style=\"text-align: right;\">\n",
              "      <th></th>\n",
              "      <th>Column_name</th>\n",
              "      <th>Number_of_Unique_Values</th>\n",
              "    </tr>\n",
              "  </thead>\n",
              "  <tbody>\n",
              "    <tr>\n",
              "      <th>0</th>\n",
              "      <td>Sex</td>\n",
              "      <td>2</td>\n",
              "    </tr>\n",
              "    <tr>\n",
              "      <th>1</th>\n",
              "      <td>Cholesterol</td>\n",
              "      <td>2</td>\n",
              "    </tr>\n",
              "    <tr>\n",
              "      <th>2</th>\n",
              "      <td>BP</td>\n",
              "      <td>3</td>\n",
              "    </tr>\n",
              "    <tr>\n",
              "      <th>3</th>\n",
              "      <td>Drug</td>\n",
              "      <td>5</td>\n",
              "    </tr>\n",
              "    <tr>\n",
              "      <th>4</th>\n",
              "      <td>Age</td>\n",
              "      <td>57</td>\n",
              "    </tr>\n",
              "    <tr>\n",
              "      <th>5</th>\n",
              "      <td>Na_to_K</td>\n",
              "      <td>198</td>\n",
              "    </tr>\n",
              "  </tbody>\n",
              "</table>\n",
              "</div>"
            ],
            "text/plain": [
              "   Column_name  Number_of_Unique_Values\n",
              "0          Sex                        2\n",
              "1  Cholesterol                        2\n",
              "2           BP                        3\n",
              "3         Drug                        5\n",
              "4          Age                       57\n",
              "5      Na_to_K                      198"
            ]
          },
          "execution_count": 298,
          "metadata": {},
          "output_type": "execute_result"
        }
      ],
      "source": [
        "# Creating the Dataframe to display the columns and there count of unique values\n",
        "\n",
        "unique_count_df = pd.DataFrame({'Column_name' : column_list, 'Number_of_Unique_Values' : unique_value_count})\n",
        "\n",
        "# Sorting this above unique_count_df in ascending order to get to count of unique values present in each column\n",
        "# Also used reset_index to reset the index and drop the previous index as it was shuffled while sorting values\n",
        "\n",
        "unique_count_df.sort_values(by = ['Number_of_Unique_Values']).reset_index(drop = True)"
      ]
    },
    {
      "cell_type": "markdown",
      "metadata": {
        "id": "b11d7f03"
      },
      "source": [
        "### Data Cleaning and Removal of duplicate enteries from the Data\n",
        "\n",
        "As data cleaning is an important task before we perform any kind of analysis on dataset, we will remove or replace the not necessary data from our dataset so that we can get desired outputs by performing EDA on it.\n",
        "\n",
        "We have perfrom following cleaning strategy to overcome the data ambiguity:\n",
        "\n",
        "\n",
        "* Getting missing data\n",
        "* Handling missing data\n",
        "* Checking for duplicate data\n",
        "* Removing duplicate data"
      ]
    },
    {
      "cell_type": "code",
      "execution_count": null,
      "metadata": {
        "id": "c81c2cea",
        "outputId": "dd149394-3a43-49a9-a1da-1a8b733c1ffd"
      },
      "outputs": [
        {
          "name": "stdout",
          "output_type": "stream",
          "text": [
            "Age            0\n",
            "Sex            0\n",
            "BP             0\n",
            "Cholesterol    0\n",
            "Na_to_K        0\n",
            "Drug           0\n",
            "dtype: int64\n"
          ]
        }
      ],
      "source": [
        "# Using isnull() from Pandas to get the Null/NaN values in the each column in dataset and \n",
        "# sum() is use to get the sum of missing values present in each column in dataset\n",
        "\n",
        "print(data.isnull().sum())"
      ]
    },
    {
      "cell_type": "markdown",
      "metadata": {
        "id": "bdc7e410"
      },
      "source": [
        "# Inference\n",
        "\n",
        "* Here we can see that there is <b>no missing value</b> in any feature of our data.\n",
        "\n",
        "\n",
        "* So we donot need to perform the missing value handling task"
      ]
    },
    {
      "cell_type": "markdown",
      "metadata": {
        "id": "0c279860"
      },
      "source": [
        "* <b>Checking for duplicate data</b>"
      ]
    },
    {
      "cell_type": "code",
      "execution_count": null,
      "metadata": {
        "id": "daf9cd28",
        "outputId": "4cda0b89-430b-4845-ef2d-488fb704dcc5"
      },
      "outputs": [
        {
          "data": {
            "text/plain": [
              "0"
            ]
          },
          "execution_count": 300,
          "metadata": {},
          "output_type": "execute_result"
        }
      ],
      "source": [
        "data[data.duplicated()].size"
      ]
    },
    {
      "cell_type": "markdown",
      "metadata": {
        "id": "9d89b561"
      },
      "source": [
        "* There is also <b>not any duplicate data</b> present in our dataset."
      ]
    },
    {
      "cell_type": "markdown",
      "metadata": {
        "id": "a990176a"
      },
      "source": [
        "# Exploratory Data Analysis"
      ]
    },
    {
      "cell_type": "code",
      "execution_count": null,
      "metadata": {
        "id": "9b47aa59",
        "outputId": "e8c4a226-d01b-4e3f-a2a2-20f97ad32d53"
      },
      "outputs": [
        {
          "data": {
            "image/png": "[encoded data removed]",
            "text/plain": [
              "<Figure size 1440x1080 with 2 Axes>"
            ]
          },
          "metadata": {
            "needs_background": "light"
          },
          "output_type": "display_data"
        }
      ],
      "source": [
        "# ploting distribution for each numerical variable present in our data set\n",
        "# using distplot from seaborn\n",
        "\n",
        "columns = data.select_dtypes(include=np.number).columns.tolist()\n",
        "\n",
        "n = 1\n",
        "\n",
        "plt.figure(figsize=(20,15))\n",
        "\n",
        "for column in columns:   \n",
        "    \n",
        "    plt.subplot(4,4,n)\n",
        "    \n",
        "    n = n+1\n",
        "    sns.distplot(data[column])\n",
        "    \n",
        "    plt.tight_layout()"
      ]
    },
    {
      "cell_type": "markdown",
      "metadata": {
        "id": "56954511"
      },
      "source": [
        "### Outlier Detection"
      ]
    },
    {
      "cell_type": "code",
      "execution_count": null,
      "metadata": {
        "id": "aa9b656d",
        "outputId": "e67e08d9-9b86-40cd-a615-8baea20aed7a"
      },
      "outputs": [
        {
          "data": {
            "image/png": "[encoded data removed]",
            "text/plain": [
              "<Figure size 1440x1080 with 2 Axes>"
            ]
          },
          "metadata": {
            "needs_background": "light"
          },
          "output_type": "display_data"
        }
      ],
      "source": [
        "# ploting the box plots into subplots of each column\n",
        "\n",
        "columns = data.select_dtypes(include=np.number).columns.tolist()\n",
        "n = 1\n",
        "\n",
        "plt.figure(figsize=(20,15))\n",
        "\n",
        "for column in columns:\n",
        "    plt.subplot(4,4,n)\n",
        "    n = n+1\n",
        "    sns.boxplot(data[column])\n",
        "    plt.tight_layout()\n",
        "    "
      ]
    },
    {
      "cell_type": "markdown",
      "metadata": {
        "id": "1a6ae0ae"
      },
      "source": [
        "## Univariate Analysis"
      ]
    },
    {
      "cell_type": "markdown",
      "metadata": {
        "id": "525a2a33"
      },
      "source": [
        "* <b>Let us go through variables individually and analyse them.</b>"
      ]
    },
    {
      "cell_type": "markdown",
      "metadata": {
        "id": "ff9fe031"
      },
      "source": [
        "#### Gender Column"
      ]
    },
    {
      "cell_type": "code",
      "execution_count": null,
      "metadata": {
        "id": "e55ab785",
        "outputId": "6e55494b-6564-4fea-cd35-4fad877e0acb"
      },
      "outputs": [
        {
          "data": {
            "text/plain": [
              "M    104\n",
              "F     96\n",
              "Name: Sex, dtype: int64"
            ]
          },
          "execution_count": 303,
          "metadata": {},
          "output_type": "execute_result"
        }
      ],
      "source": [
        "# Getting the value count for each gender using value_counts from pandas\n",
        "data['Sex'].value_counts()"
      ]
    },
    {
      "cell_type": "code",
      "execution_count": null,
      "metadata": {
        "id": "677a21c7",
        "outputId": "5b9b3a0d-1af2-4238-9405-17c61f7b631e"
      },
      "outputs": [
        {
          "data": {
            "text/plain": [
              "M    52.0\n",
              "F    48.0\n",
              "Name: Sex, dtype: float64"
            ]
          },
          "execution_count": 304,
          "metadata": {},
          "output_type": "execute_result"
        }
      ],
      "source": [
        "# Percentage For each gender\n",
        "(data['Sex'].value_counts() / data['Sex'].count()) * 100"
      ]
    },
    {
      "cell_type": "code",
      "execution_count": null,
      "metadata": {
        "id": "0932a528",
        "outputId": "a86044f1-6aa8-4793-e91b-a1599269274a"
      },
      "outputs": [
        {
          "data": {
            "image/png": "[encoded data removed]",
            "text/plain": [
              "<Figure size 576x288 with 1 Axes>"
            ]
          },
          "metadata": {
            "needs_background": "light"
          },
          "output_type": "display_data"
        }
      ],
      "source": [
        "# Ploting count plot for Gender column\n",
        "\n",
        "plt.figure(figsize = (8, 4))\n",
        "\n",
        "sns.countplot(data['Sex'])\n",
        "\n",
        "plt.title('Each Gender COUNTS')\n",
        "\n",
        "plt.xlabel('Each Gender')\n",
        "plt.ylabel('Count for each number of gender')\n",
        "\n",
        "plt.show()"
      ]
    },
    {
      "cell_type": "markdown",
      "metadata": {
        "id": "942fbb3f"
      },
      "source": [
        "#### BP(Blood Pressure) Column"
      ]
    },
    {
      "cell_type": "code",
      "execution_count": null,
      "metadata": {
        "id": "ff4854af",
        "outputId": "93adbd3b-cf99-4c03-d7f1-0ef6944cb8bc"
      },
      "outputs": [
        {
          "data": {
            "text/plain": [
              "HIGH      77\n",
              "LOW       64\n",
              "NORMAL    59\n",
              "Name: BP, dtype: int64"
            ]
          },
          "execution_count": 306,
          "metadata": {},
          "output_type": "execute_result"
        }
      ],
      "source": [
        "# Getting the value count for each BP category using value_counts from pandas\n",
        "data['BP'].value_counts()"
      ]
    },
    {
      "cell_type": "code",
      "execution_count": null,
      "metadata": {
        "id": "08fc9480",
        "outputId": "4294f28f-f745-4e10-e8cf-37d6d787163c"
      },
      "outputs": [
        {
          "data": {
            "text/plain": [
              "HIGH      38.5\n",
              "LOW       32.0\n",
              "NORMAL    29.5\n",
              "Name: BP, dtype: float64"
            ]
          },
          "execution_count": 307,
          "metadata": {},
          "output_type": "execute_result"
        }
      ],
      "source": [
        "# Percentage For Each level of BP\n",
        "(data['BP'].value_counts() / data['BP'].count()) * 100"
      ]
    },
    {
      "cell_type": "code",
      "execution_count": null,
      "metadata": {
        "id": "8bde938d",
        "outputId": "064d9ac9-d700-4ea9-d4ac-0c99a33b953b"
      },
      "outputs": [
        {
          "data": {
            "image/png": "[encoded data removed]",
            "text/plain": [
              "<Figure size 720x360 with 1 Axes>"
            ]
          },
          "metadata": {
            "needs_background": "light"
          },
          "output_type": "display_data"
        }
      ],
      "source": [
        "# Ploting count plot for BP column\n",
        "\n",
        "plt.figure(figsize = (10, 5))\n",
        "\n",
        "sns.countplot(data['BP'])\n",
        "\n",
        "plt.title('Each BP COUNTS')\n",
        "\n",
        "plt.xlabel('DIFFERENT LEVELS OF BLOOD PRESSURES(BP)')\n",
        "plt.ylabel('Count for level of BP')\n",
        "\n",
        "plt.show()"
      ]
    },
    {
      "cell_type": "markdown",
      "metadata": {
        "id": "8302f1d1"
      },
      "source": [
        "####  Cholesterol Column"
      ]
    },
    {
      "cell_type": "code",
      "execution_count": null,
      "metadata": {
        "id": "e939c80c",
        "outputId": "d081662c-6001-495b-8798-e61f65306cac"
      },
      "outputs": [
        {
          "data": {
            "text/plain": [
              "HIGH      103\n",
              "NORMAL     97\n",
              "Name: Cholesterol, dtype: int64"
            ]
          },
          "execution_count": 309,
          "metadata": {},
          "output_type": "execute_result"
        }
      ],
      "source": [
        "# Getting the value count for each Cholesterol using value_counts from pandas\n",
        "data['Cholesterol'].value_counts()"
      ]
    },
    {
      "cell_type": "code",
      "execution_count": null,
      "metadata": {
        "id": "ffd49cda",
        "outputId": "60ef4904-aa32-4d77-9fe0-0f94d9df8914"
      },
      "outputs": [
        {
          "data": {
            "text/plain": [
              "HIGH      51.5\n",
              "NORMAL    48.5\n",
              "Name: Cholesterol, dtype: float64"
            ]
          },
          "execution_count": 310,
          "metadata": {},
          "output_type": "execute_result"
        }
      ],
      "source": [
        "# Percentage For Each level of Cholesterol\n",
        "(data['Cholesterol'].value_counts() / data['Cholesterol'].count()) * 100"
      ]
    },
    {
      "cell_type": "code",
      "execution_count": null,
      "metadata": {
        "id": "61963588",
        "outputId": "fade4cc5-9e59-465f-97ac-dcb35cb63ec1"
      },
      "outputs": [
        {
          "data": {
            "image/png": "[encoded data removed]",
            "text/plain": [
              "<Figure size 720x360 with 1 Axes>"
            ]
          },
          "metadata": {
            "needs_background": "light"
          },
          "output_type": "display_data"
        }
      ],
      "source": [
        "# Ploting count plot for Cholesterol column\n",
        "\n",
        "plt.figure(figsize = (10, 5))\n",
        "\n",
        "sns.countplot(data['Cholesterol'])\n",
        "\n",
        "plt.title('Each Cholesterol LEVEL COUNTS')\n",
        "\n",
        "plt.xlabel('DIFFERENT LEVELS OF Cholesterol')\n",
        "plt.ylabel('Count for level of Cholesterol')\n",
        "\n",
        "plt.show()"
      ]
    }
  ]
}